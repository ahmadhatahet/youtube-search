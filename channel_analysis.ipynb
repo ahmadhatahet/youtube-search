{
 "cells": [
  {
   "cell_type": "code",
   "execution_count": 1,
   "metadata": {},
   "outputs": [],
   "source": [
    "import pandas as pd\n",
    "import matplotlib.pyplot as plt\n",
    "import seaborn as sns\n",
    "import numpy as np"
   ]
  },
  {
   "cell_type": "code",
   "execution_count": 2,
   "metadata": {},
   "outputs": [],
   "source": [
    "# basic modifications\n",
    "sns.set_style('whitegrid')"
   ]
  },
  {
   "cell_type": "code",
   "execution_count": 11,
   "metadata": {},
   "outputs": [
    {
     "data": {
      "text/plain": [
       "(5528, 8)"
      ]
     },
     "execution_count": 11,
     "metadata": {},
     "output_type": "execute_result"
    }
   ],
   "source": [
    "df_videos_data = pd.read_csv('./data/videos_data.csv')\n",
    "df_videos_data.shape"
   ]
  },
  {
   "cell_type": "code",
   "execution_count": 12,
   "metadata": {},
   "outputs": [
    {
     "data": {
      "text/plain": [
       "channelTitle         0\n",
       "videoId              0\n",
       "videoTitle           0\n",
       "videoViews           0\n",
       "videoLike            7\n",
       "videoDislike         7\n",
       "videoComment         1\n",
       "publishedDateTime    0\n",
       "dtype: int64"
      ]
     },
     "execution_count": 12,
     "metadata": {},
     "output_type": "execute_result"
    }
   ],
   "source": [
    "df_videos_data.replace('None', np.nan, inplace=True)\n",
    "df_videos_data.isnull().sum()"
   ]
  },
  {
   "cell_type": "code",
   "execution_count": 13,
   "metadata": {},
   "outputs": [
    {
     "data": {
      "text/plain": [
       "channelTitle          object\n",
       "videoId               object\n",
       "videoTitle            object\n",
       "videoViews             int64\n",
       "videoLike            float64\n",
       "videoDislike         float64\n",
       "videoComment         float64\n",
       "publishedDateTime     object\n",
       "dtype: object"
      ]
     },
     "execution_count": 13,
     "metadata": {},
     "output_type": "execute_result"
    }
   ],
   "source": [
    "df_videos_data.dtypes"
   ]
  },
  {
   "cell_type": "code",
   "execution_count": 14,
   "metadata": {},
   "outputs": [
    {
     "data": {
      "text/plain": [
       "channelTitle          object\n",
       "videoId               object\n",
       "videoTitle            object\n",
       "videoViews             int64\n",
       "videoLike            float64\n",
       "videoDislike         float64\n",
       "videoComment         float64\n",
       "publishedDateTime     object\n",
       "dtype: object"
      ]
     },
     "execution_count": 14,
     "metadata": {},
     "output_type": "execute_result"
    }
   ],
   "source": [
    "convert_types = df_videos_data.columns[3:-1]\n",
    "df_videos_data[convert_types] = df_videos_data[convert_types].apply(pd.to_numeric)\n",
    "df_videos_data.dtypes"
   ]
  },
  {
   "cell_type": "code",
   "execution_count": 15,
   "metadata": {},
   "outputs": [
    {
     "data": {
      "text/plain": [
       "Text(0, 0.5, 'Videos Count')"
      ]
     },
     "execution_count": 15,
     "metadata": {},
     "output_type": "execute_result"
    },
    {
     "data": {
      "image/png": "[encoded data removed]",
      "text/plain": [
       "<Figure size 720x504 with 1 Axes>"
      ]
     },
     "metadata": {},
     "output_type": "display_data"
    }
   ],
   "source": [
    "# plt.figure(figsize=(10,7))\n",
    "fig, ax = plt.subplots(figsize=(10,7))\n",
    "fig.autofmt_xdate()\n",
    "sns.histplot(ax=ax, data=df_videos_data['channelTitle'])\n",
    "plt.xlabel('Channels')\n",
    "plt.ylabel('Videos Count')"
   ]
  },
  {
   "cell_type": "code",
   "execution_count": 16,
   "metadata": {},
   "outputs": [
    {
     "data": {
      "text/plain": [
       "0    4639\n",
       "1     889\n",
       "Name: is_python, dtype: int64"
      ]
     },
     "execution_count": 16,
     "metadata": {},
     "output_type": "execute_result"
    }
   ],
   "source": [
    "df_videos_data['is_python'] = df_videos_data['videoTitle'].apply(lambda x: x.lower() ).str.contains('python') + 0\n",
    "df_videos_data['is_python'].value_counts()"
   ]
  },
  {
   "cell_type": "code",
   "execution_count": 17,
   "metadata": {},
   "outputs": [
    {
     "data": {
      "text/html": [
       "<div>\n",
       "<style scoped>\n",
       "    .dataframe tbody tr th:only-of-type {\n",
       "        vertical-align: middle;\n",
       "    }\n",
       "\n",
       "    .dataframe tbody tr th {\n",
       "        vertical-align: top;\n",
       "    }\n",
       "\n",
       "    .dataframe thead th {\n",
       "        text-align: right;\n",
       "    }\n",
       "</style>\n",
       "<table border=\"1\" class=\"dataframe\">\n",
       "  <thead>\n",
       "    <tr style=\"text-align: right;\">\n",
       "      <th></th>\n",
       "      <th>channelTitle</th>\n",
       "      <th>videoId</th>\n",
       "      <th>videoTitle</th>\n",
       "      <th>videoViews</th>\n",
       "      <th>videoLike</th>\n",
       "      <th>videoDislike</th>\n",
       "      <th>videoComment</th>\n",
       "      <th>publishedDateTime</th>\n",
       "      <th>is_python</th>\n",
       "    </tr>\n",
       "  </thead>\n",
       "  <tbody>\n",
       "    <tr>\n",
       "      <th>0</th>\n",
       "      <td>Programmieren Starten</td>\n",
       "      <td>XBqzscczGb8</td>\n",
       "      <td>Deine Ideen sind wertlos... (Programmierer REA...</td>\n",
       "      <td>2520</td>\n",
       "      <td>158.0</td>\n",
       "      <td>15.0</td>\n",
       "      <td>38.0</td>\n",
       "      <td>2021-11-03T15:30:08Z</td>\n",
       "      <td>0</td>\n",
       "    </tr>\n",
       "    <tr>\n",
       "      <th>1</th>\n",
       "      <td>Programmieren Starten</td>\n",
       "      <td>OVbgYjKeX-A</td>\n",
       "      <td>Dein C# Lernplan!</td>\n",
       "      <td>2404</td>\n",
       "      <td>186.0</td>\n",
       "      <td>0.0</td>\n",
       "      <td>49.0</td>\n",
       "      <td>2021-11-02T17:26:15Z</td>\n",
       "      <td>0</td>\n",
       "    </tr>\n",
       "    <tr>\n",
       "      <th>2</th>\n",
       "      <td>Programmieren Starten</td>\n",
       "      <td>sLFZy9NEjKI</td>\n",
       "      <td>Programmieren ist einfach!</td>\n",
       "      <td>5495</td>\n",
       "      <td>457.0</td>\n",
       "      <td>10.0</td>\n",
       "      <td>65.0</td>\n",
       "      <td>2021-11-01T14:54:14Z</td>\n",
       "      <td>0</td>\n",
       "    </tr>\n",
       "    <tr>\n",
       "      <th>3</th>\n",
       "      <td>Programmieren Starten</td>\n",
       "      <td>ZXbzotEUr0w</td>\n",
       "      <td>Zufallszahlen in C# generieren - C# Random Tut...</td>\n",
       "      <td>1810</td>\n",
       "      <td>61.0</td>\n",
       "      <td>0.0</td>\n",
       "      <td>5.0</td>\n",
       "      <td>2021-10-31T14:28:30Z</td>\n",
       "      <td>0</td>\n",
       "    </tr>\n",
       "    <tr>\n",
       "      <th>4</th>\n",
       "      <td>Programmieren Starten</td>\n",
       "      <td>-AbUHXfpYVk</td>\n",
       "      <td>In C# schneller Programmieren mit SNIPPETS!</td>\n",
       "      <td>1583</td>\n",
       "      <td>153.0</td>\n",
       "      <td>1.0</td>\n",
       "      <td>21.0</td>\n",
       "      <td>2021-10-30T14:07:03Z</td>\n",
       "      <td>0</td>\n",
       "    </tr>\n",
       "  </tbody>\n",
       "</table>\n",
       "</div>"
      ],
      "text/plain": [
       "            channelTitle      videoId  \\\n",
       "0  Programmieren Starten  XBqzscczGb8   \n",
       "1  Programmieren Starten  OVbgYjKeX-A   \n",
       "2  Programmieren Starten  sLFZy9NEjKI   \n",
       "3  Programmieren Starten  ZXbzotEUr0w   \n",
       "4  Programmieren Starten  -AbUHXfpYVk   \n",
       "\n",
       "                                          videoTitle  videoViews  videoLike  \\\n",
       "0  Deine Ideen sind wertlos... (Programmierer REA...        2520      158.0   \n",
       "1                                  Dein C# Lernplan!        2404      186.0   \n",
       "2                         Programmieren ist einfach!        5495      457.0   \n",
       "3  Zufallszahlen in C# generieren - C# Random Tut...        1810       61.0   \n",
       "4        In C# schneller Programmieren mit SNIPPETS!        1583      153.0   \n",
       "\n",
       "   videoDislike  videoComment     publishedDateTime  is_python  \n",
       "0          15.0          38.0  2021-11-03T15:30:08Z          0  \n",
       "1           0.0          49.0  2021-11-02T17:26:15Z          0  \n",
       "2          10.0          65.0  2021-11-01T14:54:14Z          0  \n",
       "3           0.0           5.0  2021-10-31T14:28:30Z          0  \n",
       "4           1.0          21.0  2021-10-30T14:07:03Z          0  "
      ]
     },
     "execution_count": 17,
     "metadata": {},
     "output_type": "execute_result"
    }
   ],
   "source": [
    "df_videos_data.head()"
   ]
  },
  {
   "cell_type": "code",
   "execution_count": 18,
   "metadata": {},
   "outputs": [
    {
     "data": {
      "text/html": [
       "<div>\n",
       "<style scoped>\n",
       "    .dataframe tbody tr th:only-of-type {\n",
       "        vertical-align: middle;\n",
       "    }\n",
       "\n",
       "    .dataframe tbody tr th {\n",
       "        vertical-align: top;\n",
       "    }\n",
       "\n",
       "    .dataframe thead th {\n",
       "        text-align: right;\n",
       "    }\n",
       "</style>\n",
       "<table border=\"1\" class=\"dataframe\">\n",
       "  <thead>\n",
       "    <tr style=\"text-align: right;\">\n",
       "      <th></th>\n",
       "      <th>videoCount</th>\n",
       "      <th>subscriberCount</th>\n",
       "      <th>viewCount</th>\n",
       "      <th>commentCount</th>\n",
       "    </tr>\n",
       "    <tr>\n",
       "      <th>channelTitle</th>\n",
       "      <th></th>\n",
       "      <th></th>\n",
       "      <th></th>\n",
       "      <th></th>\n",
       "    </tr>\n",
       "  </thead>\n",
       "  <tbody>\n",
       "    <tr>\n",
       "      <th>Programmieren Starten</th>\n",
       "      <td>570</td>\n",
       "      <td>99300</td>\n",
       "      <td>10151913</td>\n",
       "      <td>NaN</td>\n",
       "    </tr>\n",
       "    <tr>\n",
       "      <th>The Morpheus Tutorials</th>\n",
       "      <td>2649</td>\n",
       "      <td>180000</td>\n",
       "      <td>26253018</td>\n",
       "      <td>NaN</td>\n",
       "    </tr>\n",
       "    <tr>\n",
       "      <th>Corey Schafer</th>\n",
       "      <td>230</td>\n",
       "      <td>848000</td>\n",
       "      <td>64296598</td>\n",
       "      <td>NaN</td>\n",
       "    </tr>\n",
       "    <tr>\n",
       "      <th>Telusko</th>\n",
       "      <td>1486</td>\n",
       "      <td>1520000</td>\n",
       "      <td>171119565</td>\n",
       "      <td>NaN</td>\n",
       "    </tr>\n",
       "    <tr>\n",
       "      <th>Harshit vashisth</th>\n",
       "      <td>593</td>\n",
       "      <td>177000</td>\n",
       "      <td>27011292</td>\n",
       "      <td>NaN</td>\n",
       "    </tr>\n",
       "  </tbody>\n",
       "</table>\n",
       "</div>"
      ],
      "text/plain": [
       "                        videoCount  subscriberCount  viewCount  commentCount\n",
       "channelTitle                                                                \n",
       "Programmieren Starten          570            99300   10151913           NaN\n",
       "The Morpheus Tutorials        2649           180000   26253018           NaN\n",
       "Corey Schafer                  230           848000   64296598           NaN\n",
       "Telusko                       1486          1520000  171119565           NaN\n",
       "Harshit vashisth               593           177000   27011292           NaN"
      ]
     },
     "execution_count": 18,
     "metadata": {},
     "output_type": "execute_result"
    }
   ],
   "source": [
    "df_Channels = pd.read_csv('./data/channel_statistics.csv', index_col='channelTitle')\n",
    "df_Channels.drop(['channelId','uploadsId'], inplace=True, axis=1)\n",
    "df_Channels = df_Channels.applymap(lambda x: np.nan if x == 'None' else x)\n",
    "df_Channels[df_Channels.columns[2:]] = df_Channels[df_Channels.columns[2:]].apply(pd.to_numeric)\n",
    "\n",
    "df_Channels"
   ]
  },
  {
   "cell_type": "code",
   "execution_count": 19,
   "metadata": {},
   "outputs": [
    {
     "data": {
      "text/html": [
       "<div>\n",
       "<style scoped>\n",
       "    .dataframe tbody tr th:only-of-type {\n",
       "        vertical-align: middle;\n",
       "    }\n",
       "\n",
       "    .dataframe tbody tr th {\n",
       "        vertical-align: top;\n",
       "    }\n",
       "\n",
       "    .dataframe thead th {\n",
       "        text-align: right;\n",
       "    }\n",
       "</style>\n",
       "<table border=\"1\" class=\"dataframe\">\n",
       "  <thead>\n",
       "    <tr style=\"text-align: right;\">\n",
       "      <th></th>\n",
       "      <th>videoId</th>\n",
       "      <th>videoViews</th>\n",
       "      <th>videoLike</th>\n",
       "      <th>videoDislike</th>\n",
       "      <th>videoComment</th>\n",
       "      <th>is_python</th>\n",
       "    </tr>\n",
       "    <tr>\n",
       "      <th>channelTitle</th>\n",
       "      <th></th>\n",
       "      <th></th>\n",
       "      <th></th>\n",
       "      <th></th>\n",
       "      <th></th>\n",
       "      <th></th>\n",
       "    </tr>\n",
       "  </thead>\n",
       "  <tbody>\n",
       "    <tr>\n",
       "      <th>Corey Schafer</th>\n",
       "      <td>230</td>\n",
       "      <td>64314892</td>\n",
       "      <td>1440705.0</td>\n",
       "      <td>11456.0</td>\n",
       "      <td>73788.0</td>\n",
       "      <td>132</td>\n",
       "    </tr>\n",
       "    <tr>\n",
       "      <th>Harshit vashisth</th>\n",
       "      <td>593</td>\n",
       "      <td>27013973</td>\n",
       "      <td>446043.0</td>\n",
       "      <td>6953.0</td>\n",
       "      <td>38079.0</td>\n",
       "      <td>321</td>\n",
       "    </tr>\n",
       "    <tr>\n",
       "      <th>Programmieren Starten</th>\n",
       "      <td>570</td>\n",
       "      <td>10160188</td>\n",
       "      <td>375873.0</td>\n",
       "      <td>3039.0</td>\n",
       "      <td>26850.0</td>\n",
       "      <td>27</td>\n",
       "    </tr>\n",
       "    <tr>\n",
       "      <th>Telusko</th>\n",
       "      <td>1486</td>\n",
       "      <td>171141046</td>\n",
       "      <td>2568218.0</td>\n",
       "      <td>65788.0</td>\n",
       "      <td>148902.0</td>\n",
       "      <td>105</td>\n",
       "    </tr>\n",
       "    <tr>\n",
       "      <th>The Morpheus Tutorials</th>\n",
       "      <td>2649</td>\n",
       "      <td>26261439</td>\n",
       "      <td>559263.0</td>\n",
       "      <td>13091.0</td>\n",
       "      <td>96636.0</td>\n",
       "      <td>304</td>\n",
       "    </tr>\n",
       "  </tbody>\n",
       "</table>\n",
       "</div>"
      ],
      "text/plain": [
       "                        videoId  videoViews  videoLike  videoDislike  \\\n",
       "channelTitle                                                           \n",
       "Corey Schafer               230    64314892  1440705.0       11456.0   \n",
       "Harshit vashisth            593    27013973   446043.0        6953.0   \n",
       "Programmieren Starten       570    10160188   375873.0        3039.0   \n",
       "Telusko                    1486   171141046  2568218.0       65788.0   \n",
       "The Morpheus Tutorials     2649    26261439   559263.0       13091.0   \n",
       "\n",
       "                        videoComment  is_python  \n",
       "channelTitle                                     \n",
       "Corey Schafer                73788.0        132  \n",
       "Harshit vashisth             38079.0        321  \n",
       "Programmieren Starten        26850.0         27  \n",
       "Telusko                     148902.0        105  \n",
       "The Morpheus Tutorials       96636.0        304  "
      ]
     },
     "execution_count": 19,
     "metadata": {},
     "output_type": "execute_result"
    }
   ],
   "source": [
    "df_videos_data_stats = pd.DataFrame(df_videos_data.groupby(df_videos_data['channelTitle'])['videoId'].count()) \\\n",
    "    .merge(df_videos_data.groupby(df_videos_data['channelTitle']).sum(), on='channelTitle')\n",
    "df_videos_data_stats"
   ]
  },
  {
   "cell_type": "code",
   "execution_count": 20,
   "metadata": {},
   "outputs": [
    {
     "data": {
      "text/html": [
       "<div>\n",
       "<style scoped>\n",
       "    .dataframe tbody tr th:only-of-type {\n",
       "        vertical-align: middle;\n",
       "    }\n",
       "\n",
       "    .dataframe tbody tr th {\n",
       "        vertical-align: top;\n",
       "    }\n",
       "\n",
       "    .dataframe thead th {\n",
       "        text-align: right;\n",
       "    }\n",
       "</style>\n",
       "<table border=\"1\" class=\"dataframe\">\n",
       "  <thead>\n",
       "    <tr style=\"text-align: right;\">\n",
       "      <th></th>\n",
       "      <th>videoId</th>\n",
       "    </tr>\n",
       "    <tr>\n",
       "      <th>channelTitle</th>\n",
       "      <th></th>\n",
       "    </tr>\n",
       "  </thead>\n",
       "  <tbody>\n",
       "    <tr>\n",
       "      <th>Corey Schafer</th>\n",
       "      <td>230</td>\n",
       "    </tr>\n",
       "    <tr>\n",
       "      <th>Harshit vashisth</th>\n",
       "      <td>593</td>\n",
       "    </tr>\n",
       "    <tr>\n",
       "      <th>Programmieren Starten</th>\n",
       "      <td>570</td>\n",
       "    </tr>\n",
       "    <tr>\n",
       "      <th>Telusko</th>\n",
       "      <td>1486</td>\n",
       "    </tr>\n",
       "    <tr>\n",
       "      <th>The Morpheus Tutorials</th>\n",
       "      <td>2649</td>\n",
       "    </tr>\n",
       "  </tbody>\n",
       "</table>\n",
       "</div>"
      ],
      "text/plain": [
       "                        videoId\n",
       "channelTitle                   \n",
       "Corey Schafer               230\n",
       "Harshit vashisth            593\n",
       "Programmieren Starten       570\n",
       "Telusko                    1486\n",
       "The Morpheus Tutorials     2649"
      ]
     },
     "execution_count": 20,
     "metadata": {},
     "output_type": "execute_result"
    }
   ],
   "source": [
    "df_video_ids = pd.read_csv('./data/video_ids.csv', usecols=['channelTitle','videoId'], index_col=False)\n",
    "\n",
    "df_video_ids.replace('None', np.nan, inplace=True)\n",
    "\n",
    "df_video_idsStats = pd.DataFrame(df_video_ids.groupby(df_video_ids['channelTitle'])['videoId'].count())\n",
    "\n",
    "df_video_idsStats"
   ]
  },
  {
   "cell_type": "code",
   "execution_count": 21,
   "metadata": {},
   "outputs": [],
   "source": [
    "df_comparison = pd.concat([\n",
    "    df_Channels['videoCount'],\n",
    "    df_video_idsStats['videoId'],\n",
    "    df_videos_data_stats['videoId']\n",
    "    ],\n",
    "    axis=1\n",
    ")"
   ]
  },
  {
   "cell_type": "code",
   "execution_count": 22,
   "metadata": {},
   "outputs": [],
   "source": [
    "old_column_names = df_comparison.columns\n",
    "new_column_names = ['channelStats','fetchedVideos','actualData']\n",
    "df_comparison.columns = new_column_names"
   ]
  },
  {
   "cell_type": "code",
   "execution_count": 23,
   "metadata": {},
   "outputs": [
    {
     "data": {
      "text/html": [
       "<div>\n",
       "<style scoped>\n",
       "    .dataframe tbody tr th:only-of-type {\n",
       "        vertical-align: middle;\n",
       "    }\n",
       "\n",
       "    .dataframe tbody tr th {\n",
       "        vertical-align: top;\n",
       "    }\n",
       "\n",
       "    .dataframe thead th {\n",
       "        text-align: right;\n",
       "    }\n",
       "</style>\n",
       "<table border=\"1\" class=\"dataframe\">\n",
       "  <thead>\n",
       "    <tr style=\"text-align: right;\">\n",
       "      <th></th>\n",
       "      <th>channelStats</th>\n",
       "      <th>fetchedVideos</th>\n",
       "      <th>actualData</th>\n",
       "      <th>channelVSfetched</th>\n",
       "      <th>fetchedVSactual</th>\n",
       "      <th>%fetchedVSactual</th>\n",
       "    </tr>\n",
       "    <tr>\n",
       "      <th>channelTitle</th>\n",
       "      <th></th>\n",
       "      <th></th>\n",
       "      <th></th>\n",
       "      <th></th>\n",
       "      <th></th>\n",
       "      <th></th>\n",
       "    </tr>\n",
       "  </thead>\n",
       "  <tbody>\n",
       "    <tr>\n",
       "      <th>Programmieren Starten</th>\n",
       "      <td>570</td>\n",
       "      <td>570</td>\n",
       "      <td>570</td>\n",
       "      <td>0</td>\n",
       "      <td>0</td>\n",
       "      <td>0.0</td>\n",
       "    </tr>\n",
       "    <tr>\n",
       "      <th>The Morpheus Tutorials</th>\n",
       "      <td>2649</td>\n",
       "      <td>2649</td>\n",
       "      <td>2649</td>\n",
       "      <td>0</td>\n",
       "      <td>0</td>\n",
       "      <td>0.0</td>\n",
       "    </tr>\n",
       "    <tr>\n",
       "      <th>Corey Schafer</th>\n",
       "      <td>230</td>\n",
       "      <td>230</td>\n",
       "      <td>230</td>\n",
       "      <td>0</td>\n",
       "      <td>0</td>\n",
       "      <td>0.0</td>\n",
       "    </tr>\n",
       "    <tr>\n",
       "      <th>Telusko</th>\n",
       "      <td>1486</td>\n",
       "      <td>1486</td>\n",
       "      <td>1486</td>\n",
       "      <td>0</td>\n",
       "      <td>0</td>\n",
       "      <td>0.0</td>\n",
       "    </tr>\n",
       "    <tr>\n",
       "      <th>Harshit vashisth</th>\n",
       "      <td>593</td>\n",
       "      <td>593</td>\n",
       "      <td>593</td>\n",
       "      <td>0</td>\n",
       "      <td>0</td>\n",
       "      <td>0.0</td>\n",
       "    </tr>\n",
       "  </tbody>\n",
       "</table>\n",
       "</div>"
      ],
      "text/plain": [
       "                        channelStats  fetchedVideos  actualData  \\\n",
       "channelTitle                                                      \n",
       "Programmieren Starten            570            570         570   \n",
       "The Morpheus Tutorials          2649           2649        2649   \n",
       "Corey Schafer                    230            230         230   \n",
       "Telusko                         1486           1486        1486   \n",
       "Harshit vashisth                 593            593         593   \n",
       "\n",
       "                        channelVSfetched  fetchedVSactual  %fetchedVSactual  \n",
       "channelTitle                                                                 \n",
       "Programmieren Starten                  0                0               0.0  \n",
       "The Morpheus Tutorials                 0                0               0.0  \n",
       "Corey Schafer                          0                0               0.0  \n",
       "Telusko                                0                0               0.0  \n",
       "Harshit vashisth                       0                0               0.0  "
      ]
     },
     "execution_count": 23,
     "metadata": {},
     "output_type": "execute_result"
    }
   ],
   "source": [
    "df_comparison['channelVSfetched'] = df_comparison['channelStats'] - df_comparison['fetchedVideos']\n",
    "df_comparison['fetchedVSactual'] = df_comparison['fetchedVideos'] - df_comparison['actualData']\n",
    "df_comparison['%fetchedVSactual'] = df_comparison['fetchedVSactual'] / df_comparison['fetchedVideos']\n",
    "df_comparison"
   ]
  },
  {
   "cell_type": "markdown",
   "metadata": {},
   "source": [
    "Most loss in videos with \"Corey Schafer\""
   ]
  },
  {
   "cell_type": "code",
   "execution_count": 24,
   "metadata": {},
   "outputs": [],
   "source": [
    "def get_unmatched_rows(df_Name: str):\n",
    "    '''Collect Unmatched rows for a channel'''\n",
    "    df_temp = \\\n",
    "        df_video_ids.loc[df_video_ids['channelTitle'] == df_Name] \\\n",
    "        .merge(df_videos_data.loc[df_videos_data['channelTitle'] == df_Name], on='videoId', how='outer')\n",
    "\n",
    "    df_temp_nulls = df_temp[ df_temp['videoViews'].isna() ]\n",
    "    return df_temp_nulls"
   ]
  },
  {
   "cell_type": "code",
   "execution_count": 25,
   "metadata": {},
   "outputs": [
    {
     "data": {
      "text/plain": [
       "(0, 10)"
      ]
     },
     "execution_count": 25,
     "metadata": {},
     "output_type": "execute_result"
    }
   ],
   "source": [
    "CoreySchafer = get_unmatched_rows('Corey Schafer')\n",
    "CoreySchafer.shape"
   ]
  },
  {
   "cell_type": "code",
   "execution_count": 26,
   "metadata": {},
   "outputs": [
    {
     "data": {
      "text/html": [
       "<div>\n",
       "<style scoped>\n",
       "    .dataframe tbody tr th:only-of-type {\n",
       "        vertical-align: middle;\n",
       "    }\n",
       "\n",
       "    .dataframe tbody tr th {\n",
       "        vertical-align: top;\n",
       "    }\n",
       "\n",
       "    .dataframe thead th {\n",
       "        text-align: right;\n",
       "    }\n",
       "</style>\n",
       "<table border=\"1\" class=\"dataframe\">\n",
       "  <thead>\n",
       "    <tr style=\"text-align: right;\">\n",
       "      <th></th>\n",
       "      <th>channelTitle</th>\n",
       "      <th>countVidNoPython</th>\n",
       "      <th>countVidWithPython</th>\n",
       "      <th>viewsVidNoPython</th>\n",
       "      <th>viewsVidWithPython</th>\n",
       "    </tr>\n",
       "  </thead>\n",
       "  <tbody>\n",
       "    <tr>\n",
       "      <th>0</th>\n",
       "      <td>Corey Schafer</td>\n",
       "      <td>98</td>\n",
       "      <td>132</td>\n",
       "      <td>12436893</td>\n",
       "      <td>51877999</td>\n",
       "    </tr>\n",
       "    <tr>\n",
       "      <th>1</th>\n",
       "      <td>Harshit vashisth</td>\n",
       "      <td>272</td>\n",
       "      <td>321</td>\n",
       "      <td>4046275</td>\n",
       "      <td>22967698</td>\n",
       "    </tr>\n",
       "    <tr>\n",
       "      <th>2</th>\n",
       "      <td>Programmieren Starten</td>\n",
       "      <td>543</td>\n",
       "      <td>27</td>\n",
       "      <td>9138736</td>\n",
       "      <td>1021452</td>\n",
       "    </tr>\n",
       "    <tr>\n",
       "      <th>3</th>\n",
       "      <td>Telusko</td>\n",
       "      <td>1381</td>\n",
       "      <td>105</td>\n",
       "      <td>119401196</td>\n",
       "      <td>51739850</td>\n",
       "    </tr>\n",
       "    <tr>\n",
       "      <th>4</th>\n",
       "      <td>The Morpheus Tutorials</td>\n",
       "      <td>2345</td>\n",
       "      <td>304</td>\n",
       "      <td>20293795</td>\n",
       "      <td>5967644</td>\n",
       "    </tr>\n",
       "  </tbody>\n",
       "</table>\n",
       "</div>"
      ],
      "text/plain": [
       "             channelTitle  countVidNoPython  countVidWithPython  \\\n",
       "0           Corey Schafer                98                 132   \n",
       "1        Harshit vashisth               272                 321   \n",
       "2   Programmieren Starten               543                  27   \n",
       "3                 Telusko              1381                 105   \n",
       "4  The Morpheus Tutorials              2345                 304   \n",
       "\n",
       "   viewsVidNoPython  viewsVidWithPython  \n",
       "0          12436893            51877999  \n",
       "1           4046275            22967698  \n",
       "2           9138736             1021452  \n",
       "3         119401196            51739850  \n",
       "4          20293795             5967644  "
      ]
     },
     "execution_count": 26,
     "metadata": {},
     "output_type": "execute_result"
    }
   ],
   "source": [
    "aggType = {\n",
    "    'videoViews': 'sum',\n",
    "    'videoId': 'count'\n",
    "}\n",
    "\n",
    "df_df_videos_data_summary = \\\n",
    "    pd.pivot_table(\n",
    "        df_videos_data.groupby(['channelTitle','is_python'],as_index=False) \\\n",
    "            .agg(aggType),\n",
    "        index=['channelTitle'],\n",
    "        columns=['is_python']\n",
    "    )\n",
    "df_df_videos_data_summary.columns=['countVidNoPython','countVidWithPython','viewsVidNoPython','viewsVidWithPython']\n",
    "df_df_videos_data_summary.reset_index(inplace=True)\n",
    "df_df_videos_data_summary"
   ]
  },
  {
   "cell_type": "code",
   "execution_count": 27,
   "metadata": {},
   "outputs": [
    {
     "data": {
      "text/plain": [
       "channelTitle          object\n",
       "countVidNoPython       int64\n",
       "countVidWithPython     int64\n",
       "viewsVidNoPython       int64\n",
       "viewsVidWithPython     int64\n",
       "dtype: object"
      ]
     },
     "execution_count": 27,
     "metadata": {},
     "output_type": "execute_result"
    }
   ],
   "source": [
    "df_df_videos_data_summary.dtypes"
   ]
  }
 ],
 "metadata": {
  "interpreter": {
   "hash": "441a3f8fa68a8000935d0e159b944b3976e4147fd191700105f09abebfbefdcd"
  },
  "kernelspec": {
   "display_name": "Python 3.9.4 64-bit ('mycode': conda)",
   "name": "python3"
  },
  "language_info": {
   "codemirror_mode": {
    "name": "ipython",
    "version": 3
   },
   "file_extension": ".py",
   "mimetype": "text/x-python",
   "name": "python",
   "nbconvert_exporter": "python",
   "pygments_lexer": "ipython3",
   "version": "3.9.4"
  },
  "orig_nbformat": 4
 },
 "nbformat": 4,
 "nbformat_minor": 2
}
